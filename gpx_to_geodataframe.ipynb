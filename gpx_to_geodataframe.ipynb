{
 "cells": [
  {
   "cell_type": "markdown",
   "id": "a0a2db87",
   "metadata": {
    "vscode": {
     "languageId": "html"
    }
   },
   "source": [
    "### 使用 gpxpy 套件解析 gpx"
   ]
  },
  {
   "cell_type": "markdown",
   "id": "4c94baec",
   "metadata": {
    "vscode": {
     "languageId": "html"
    }
   },
   "source": [
    "GPX\n",
    " └─ trk (Track，軌跡)\n",
    "      └─ trkseg (Track Segment，路段)\n",
    "           └─ trkpt (Track Point，座標點)\n",
    "                ├─ lat        (緯度，必填屬性)\n",
    "                ├─ lon        (經度，必填屬性)\n",
    "                ├─ ele       （高度／海拔，選填屬性）\n",
    "                ├─ time      （時間戳，ISO 8601，選填屬性）\n",
    "                ├─ speed     （速度，選填屬性，單位多為 m/s）\n",
    "                ├─ hr        （心率，選填屬性，單位 bpm）\n",
    "                ├─ course    （方向角，選填屬性，單位度）\n",
    "                └─ extensions（廠商自定義欄位，如溫度、踏頻、壓力等）"
   ]
  },
  {
   "cell_type": "code",
   "execution_count": null,
   "id": "d336d847",
   "metadata": {},
   "outputs": [],
   "source": [
    "# 大概觀察一下 gpx 的資訊\n",
    "\n",
    "import gpxpy\n",
    "\n",
    "\n",
    "def print_gpx_tree(gpx_path):\n",
    "    with open(gpx_path, \"r\", encoding=\"utf-8\") as f:\n",
    "        gpx = gpxpy.parse(f)\n",
    "\n",
    "    print(gpx_path)\n",
    "    for i, track in enumerate(gpx.tracks):\n",
    "        print(f\"  ├─ Track {i+1}: {track.name or '(no name)'}\")\n",
    "        for j, segment in enumerate(track.segments):\n",
    "            print(f\"  │   ├─ Segment {j+1} (points: {len(segment.points)})\")\n",
    "            for k, point in enumerate(segment.points[:]):\n",
    "                print(\n",
    "                    f\"  │   │   ├─ Point {k+1}: ({point.latitude:.5f}, {point.longitude:.5f}), time: {point.time}\"\n",
    "                )\n",
    "            if len(segment.points) > 5:\n",
    "                print(f\"  │   │   └─ ... ({len(segment.points)} points total)\")\n",
    "    for i, route in enumerate(gpx.routes):\n",
    "        print(\n",
    "            f\"  ├─ Route {i+1}: {route.name or '(no name)'} (points: {len(route.points)})\"\n",
    "        )\n",
    "    for i, waypoint in enumerate(gpx.waypoints):\n",
    "        print(\n",
    "            f\"  ├─ Waypoint {i+1}: {waypoint.name or '(no name)'} ({waypoint.latitude:.5f}, {waypoint.longitude:.5f})\"\n",
    "        )\n",
    "\n",
    "\n",
    "# 用法：gpx_path 改為要解析的 gpx 路經\n",
    "gpx_path = r\"123.gpx\"\n",
    "print_gpx_tree(gpx_path)"
   ]
  },
  {
   "cell_type": "markdown",
   "id": "a33645e8",
   "metadata": {},
   "source": [
    "### 轉檔 GPX →  GeoPandas GeoDataFrame\n",
    "GeoPandas = pandas DataFrame + geometry 欄位（存 shapely 物件） + 空間索引功能\n",
    "\n",
    "方便後續地理查詢、繪圖、空間運算...等 GIS 分析"
   ]
  },
  {
   "cell_type": "code",
   "execution_count": null,
   "id": "b674a012",
   "metadata": {},
   "outputs": [],
   "source": [
    "# 將 gpx 轉檔為 geodataframe 格式，並加入 geometry 欄位，方便讓 shapely 套件進行空間分析\n",
    "import gpxpy\n",
    "import geopandas\n",
    "from shapely.geometry import Point\n",
    "\n",
    "\n",
    "def gpx_to_geodataframe(gpx_path):\n",
    "    with open(gpx_path, \"r\", encoding=\"utf-8\") as f:\n",
    "        gpx = gpxpy.parse(f)\n",
    "\n",
    "    rows = []\n",
    "    for track in gpx.tracks:\n",
    "        for seg_idx, segment in enumerate(track.segments):\n",
    "            for pt_idx, p in enumerate(segment.points):\n",
    "                rows.append(\n",
    "                    {\n",
    "                        \"track_name\": track.name,\n",
    "                        \"segment_index\": seg_idx,\n",
    "                        \"point_index\": pt_idx,\n",
    "                        \"lon\": p.longitude,  # 經度，單位：°\n",
    "                        \"lat\": p.latitude,  # 緯度，單位：°\n",
    "                        \"ele\": p.elevation,  # 高程，單位：m\n",
    "                        \"time\": p.time,  # Timestamp 時間戳記且可能帶有時區\n",
    "                        \"geometry\": Point(\n",
    "                            p.longitude, p.latitude\n",
    "                        ),  # 注意！ shapely 預設 (x, y) = (lon, lat)，此時單位：°\n",
    "                    }\n",
    "                )\n",
    "    # 建立時指定座標系統是 WGS84 (單位：°)(EPSG 編號 4326)\n",
    "    gdf = geopandas.GeoDataFrame(rows, geometry=\"geometry\", crs=\"EPSG:4326\")\n",
    "\n",
    "    # 投影成 TWD97 TM2 (單位：m)，再回傳(EPSG 編號 3826),不然無法計算平面距離(誤差會很大)\n",
    "    return gdf.to_crs(epsg=3826)\n",
    "\n",
    "\n",
    "# 用法：gpx_path 改為要解析的 gpx 路經\n",
    "gpx_path = r\"123.gpx\"\n",
    "gdf = gpx_to_geodataframe(gpx_path)\n",
    "print(gdf.head())\n",
    "print(gdf.crs)"
   ]
  },
  {
   "cell_type": "markdown",
   "id": "0cab20d0",
   "metadata": {},
   "source": [
    "### 轉檔 GeoDataFrame → CSV"
   ]
  },
  {
   "cell_type": "code",
   "execution_count": null,
   "id": "05964333",
   "metadata": {},
   "outputs": [],
   "source": [
    "# 儲存為 CSV\n",
    "\n",
    "from pathlib import Path\n",
    "\n",
    "csv_path = str(Path(gpx_path).with_suffix(\".csv\"))\n",
    "csv = gdf.to_csv(csv_path, index=False, encoding=\"utf-8-sig\")\n",
    "print(\"✔️ 儲存為 CSV\")"
   ]
  },
  {
   "cell_type": "markdown",
   "id": "cc4a830e",
   "metadata": {},
   "source": [
    "### CSV → Folium 地圖顯示"
   ]
  },
  {
   "cell_type": "code",
   "execution_count": null,
   "id": "8e297795",
   "metadata": {},
   "outputs": [],
   "source": [
    "import folium\n",
    "import pandas\n",
    "\n",
    "# 用法：自己改路徑名稱\n",
    "csv_path = \"123.csv\"\n",
    "df = pandas.read_csv(csv_path, encoding=\"utf-8\")\n",
    "\n",
    "lat_col = next(col for col in df.columns if col.startswith(\"lat\"))\n",
    "lon_col = next(col for col in df.columns if col.startswith(\"lon\"))\n",
    "coords = list(zip(df[lat_col], df[lon_col]))\n",
    "\n",
    "m = folium.Map(location=coords[0], zoom_start=14)\n",
    "folium.PolyLine(coords, color=\"blue\", weight=3, tooltip=\"Track\").add_to(m)\n",
    "folium.Marker(coords[0], icon=folium.Icon(color=\"green\"), tooltip=\"Start\").add_to(m)\n",
    "folium.Marker(coords[-1], icon=folium.Icon(color=\"red\"), tooltip=\"End\").add_to(m)\n",
    "\n",
    "\n",
    "# 變數名稱 -> 直接顯示在 Jupyter Notebook\n",
    "m"
   ]
  }
 ],
 "metadata": {
  "kernelspec": {
   "display_name": "analyze-gpx-py3.13",
   "language": "python",
   "name": "python3"
  },
  "language_info": {
   "codemirror_mode": {
    "name": "ipython",
    "version": 3
   },
   "file_extension": ".py",
   "mimetype": "text/x-python",
   "name": "python",
   "nbconvert_exporter": "python",
   "pygments_lexer": "ipython3",
   "version": "3.13.3"
  }
 },
 "nbformat": 4,
 "nbformat_minor": 5
}
